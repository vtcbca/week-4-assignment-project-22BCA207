{
 "cells": [
  {
   "cell_type": "code",
   "execution_count": 1,
   "id": "d0ab1832",
   "metadata": {},
   "outputs": [],
   "source": [
    "import sqlite3 as s"
   ]
  },
  {
   "cell_type": "code",
   "execution_count": 2,
   "id": "aec653d9",
   "metadata": {},
   "outputs": [],
   "source": [
    "con=s.connect(\"ContactManagementSystem11.db\")"
   ]
  },
  {
   "cell_type": "code",
   "execution_count": 3,
   "id": "139418c9",
   "metadata": {},
   "outputs": [],
   "source": [
    "c=con.cursor()"
   ]
  },
  {
   "cell_type": "code",
   "execution_count": 4,
   "id": "c74d5c38",
   "metadata": {},
   "outputs": [],
   "source": [
    "def create_tbl(tblq):\n",
    "    c.execute(tblq)\n",
    "    con.commit()\n",
    "tblq='''create table if not exists contact_tbl\n",
    "               (\n",
    "                      fname text,\n",
    "                      lname text,\n",
    "                      contactno int,\n",
    "                      email text,\n",
    "                      city text\n",
    "               )'''"
   ]
  },
  {
   "cell_type": "code",
   "execution_count": 5,
   "id": "c5b3df07",
   "metadata": {},
   "outputs": [],
   "source": [
    "def validate_inputdata():\n",
    "    tq='''\n",
    "               create trigger if not exists validate_phoneno\n",
    "               before insert on contact_tbl\n",
    "               BEGIN\n",
    "                   SELECT\n",
    "                       CASE\n",
    "                           WHEN LENGTH(NEW.contactno) != 10 THEN\n",
    "                           RAISE(ABORT, 'Invalid Phone Number,Phone Number Should Be 10 Digits')\n",
    "                       END;\n",
    "               END; \n",
    "            \n",
    "            '''\n",
    "    c.execute(tq)\n",
    "    \n",
    "    t1q=''' \n",
    "                create trigger if not exists validate_email\n",
    "                before insert on contact_tbl\n",
    "                BEGIN\n",
    "                    SELECT\n",
    "                        CASE\n",
    "                            WHEN NEW.email NOT LIKE '%_@___%.__%' THEN\n",
    "                            RAISE(ABORT,'Invalid Email Id , Email Id Should Be In Proper Format')\n",
    "                        END;\n",
    "                END;\n",
    "            '''\n",
    "    c.execute(t1q)"
   ]
  },
  {
   "cell_type": "code",
   "execution_count": 6,
   "id": "4a13d820",
   "metadata": {},
   "outputs": [],
   "source": [
    "def logtbl_for_insert(inslogq,t2q):\n",
    "    c.execute(inslogq)\n",
    "    c.execute(t2q)\n",
    "    con.commit()\n",
    "inslogq='''create table if not exists insertlog_tbl\n",
    "                (\n",
    "                        fname text,\n",
    "                        lname text,\n",
    "                        contactno int,\n",
    "                        datetime text,\n",
    "                        operation_name text\n",
    "                )'''\n",
    "t2q='''create trigger if not exists insert_trigger\n",
    "      after insert on contact_tbl\n",
    "      begin\n",
    "          insert into insertlog_tbl\n",
    "          values(NEW.fname,NEW.lname,NEW.contactno,datetime('now','localtime'),'INSERT');\n",
    "      end;'''"
   ]
  },
  {
   "cell_type": "code",
   "execution_count": 7,
   "id": "9648ada6",
   "metadata": {},
   "outputs": [],
   "source": [
    "def logtbl_for_delete(dellogq,t3q):\n",
    "    c.execute(dellogq)\n",
    "    c.execute(t3q)\n",
    "    con.commit()\n",
    "dellogq='''create table if not exists deletelog_tbl\n",
    "                (\n",
    "                        fname text,\n",
    "                        lname text,\n",
    "                        contactno int,\n",
    "                        datetime text,\n",
    "                        operation_name text\n",
    "                )'''\n",
    "t3q='''create trigger if not exists del_trigger\n",
    "       after delete on contact_tbl\n",
    "       begin\n",
    "           insert into deletelog_tbl \n",
    "           values(OLD.fname,OLD.lname,OLD.contactno,datetime('now','localtime'),'DELETE');\n",
    "       end;'''"
   ]
  },
  {
   "cell_type": "code",
   "execution_count": 9,
   "id": "a9b3bcf2",
   "metadata": {},
   "outputs": [],
   "source": [
    "def logtbl_for_update(uplogq,t4q):\n",
    "    c.execute(uplogq)\n",
    "    c.execute(t4q)\n",
    "    con.commit()\n",
    "uplogq='''create table if not exists updatelog_tbl\n",
    "           (\n",
    "                        fname text,\n",
    "                        lname text,\n",
    "                        contactno int,\n",
    "                        newcontactno int,\n",
    "                        datetime text,\n",
    "                        operation_name text\n",
    "            )'''\n",
    "t4q='''create trigger if not exists update_trigger\n",
    "       after update on contact_tbl\n",
    "       begin\n",
    "           insert into updatelog_tbl\n",
    "           values(OLD.fname,OLD.lname,OLD.contactno,NEW.contactno,datetime('now','localtime'),'UPDATE');\n",
    "       end;'''"
   ]
  },
  {
   "cell_type": "code",
   "execution_count": 10,
   "id": "f1e7b5d5",
   "metadata": {},
   "outputs": [],
   "source": [
    "def insert_record():\n",
    "    c.execute('''insert into contact_tbl values('Jay','Patel',9867890543,'jay@gmail.com','Mumbai'),\n",
    "                                               ('Shree','Rajput',9812390543,'shree@gmail.com','Delhi'),\n",
    "                                               ('Ram','Rajput',9867890999,'ram@gmail.com','Delhi'),\n",
    "                                               ('Shiv','Vyas',9998909992,'shiv@gmail.com','Surat'),\n",
    "                                               ('Ganesha','Patel',9866660543,'ganesha@gmail.com','Surat')''')"
   ]
  },
  {
   "cell_type": "code",
   "execution_count": 11,
   "id": "517347ae",
   "metadata": {},
   "outputs": [],
   "source": [
    "def update_record():\n",
    "    upq=\"\"\" update contact_tbl\n",
    "            set contactno=6353459898\n",
    "            where fname='Shiv' and lname='Vyas';\n",
    "        \"\"\"\n",
    "    c.execute(upq)"
   ]
  },
  {
   "cell_type": "code",
   "execution_count": 12,
   "id": "99d9c44d",
   "metadata": {},
   "outputs": [],
   "source": [
    "def delete_record():\n",
    "    delq=\"\"\"\n",
    "             delete from contact_tbl\n",
    "             where fname='Shree' and lname='Rajput';\n",
    "         \"\"\"\n",
    "    c.execute(delq)"
   ]
  },
  {
   "cell_type": "code",
   "execution_count": 13,
   "id": "2faa88d0",
   "metadata": {},
   "outputs": [],
   "source": [
    "def printrecords_of_maintbl():\n",
    "    print(\"\\n\\n\\t\\t Records In Main Contact Table \\n---------------------------------------------------------------------------\")  \n",
    "    q=\"select * from contact_tbl;\"\n",
    "    c.execute(q)\n",
    "    records=c.fetchall()\n",
    "     # For Printing headers\n",
    "    header = \"{:^12} {:^12} {:^12} {:^25} {:^12}\".format('First Name', 'Last Name', 'Contact No', 'email','city')\n",
    "    print(header,\"\\n---------------------------------------------------------------------------\")\n",
    "\n",
    "    # For Printing records\n",
    "    for re in records:\n",
    "            record_line = \"{:^12} {:^12} {:^12} {:^25} {:^12}\".format(re[0], re[1], re[2], re[3], re[4])\n",
    "            print(record_line)"
   ]
  },
  {
   "cell_type": "code",
   "execution_count": 14,
   "id": "d81aba88",
   "metadata": {},
   "outputs": [],
   "source": [
    "def records_of_inslog_tbl():\n",
    "    print(\"\\n\\n\\t\\t Insert Log Table Details \\n-------------------------------------------------------------------------------------------\")  \n",
    "    q1=\"select * from insertlog_tbl;\"\n",
    "    c.execute(q1)\n",
    "    records1=c.fetchall()\n",
    "    # For Printing headers\n",
    "    header = \"{:^12} {:^12} {:^12} {:^25} {:^25}\".format('First Name', 'Last Name', 'Contact No', 'Date-Time','Operation Name')\n",
    "    print(header,\"\\n-------------------------------------------------------------------------------------------\")\n",
    "\n",
    "    # For Printing records\n",
    "    for re in records1:\n",
    "            record_line1 = \"{:^12} {:^12} {:^12} {:^25} {:^25}\".format(re[0], re[1], re[2], re[3], re[4])\n",
    "            print(record_line1)"
   ]
  },
  {
   "cell_type": "code",
   "execution_count": 15,
   "id": "0fc1d817",
   "metadata": {},
   "outputs": [],
   "source": [
    "def records_of_dellog_tbl():\n",
    "    print(\"\\n\\n\\t\\t Delete Log Table Details \\n-----------------------------------------------------------------------------------------\")  \n",
    "    q2=\"select * from deletelog_tbl;\"\n",
    "    c.execute(q2)\n",
    "    records=c.fetchall()\n",
    "     # For Printing headers\n",
    "    header = \"{:^12} {:^12} {:^12} {:^25} {:^25}\".format('First Name', 'Last Name', 'Contact No', 'Date-Time','Operation Name')\n",
    "    print(header,\"\\n-----------------------------------------------------------------------------------------\")\n",
    "\n",
    "    # For Printing records\n",
    "    for re in records:\n",
    "            record_line = \"{:^12} {:^12} {:^12} {:^25} {:^25}\".format(re[0], re[1], re[2], re[3], re[4])\n",
    "            print(record_line)"
   ]
  },
  {
   "cell_type": "code",
   "execution_count": 16,
   "id": "54bb22fd",
   "metadata": {},
   "outputs": [],
   "source": [
    "def records_of_uplog_tbl():\n",
    "    print(\"\\n\\n\\t\\t Update Log Table Details \\n------------------------------------------------------------------------------------------------------\")  \n",
    "    q3=\"select * from updatelog_tbl ;\"\n",
    "    c.execute(q3)\n",
    "    records=c.fetchall()\n",
    "     # For Printing headers\n",
    "    header = \"{:^12} {:^12} {:^12} {:^25} {:^12} {:^25}\".format('First Name', 'Last Name', 'Old Contact No', 'New Contact No','Date-Time','Operation Name')\n",
    "    print(header,\"\\n------------------------------------------------------------------------------------------------------\")\n",
    "\n",
    "    # For Printing records\n",
    "    for re in records:\n",
    "            record_line = \"{:^12} {:^12} {:^12} {:^25} {:^12} {:^25}\".format(re[0], re[1], re[2], re[3], re[4], re[5])\n",
    "            print(record_line)"
   ]
  },
  {
   "cell_type": "code",
   "execution_count": 17,
   "id": "fa2d0c04",
   "metadata": {},
   "outputs": [
    {
     "name": "stdout",
     "output_type": "stream",
     "text": [
      "\n",
      "\n",
      "\t\t Records In Main Contact Table \n",
      "---------------------------------------------------------------------------\n",
      " First Name   Last Name    Contact No            email               city     \n",
      "---------------------------------------------------------------------------\n",
      "    Jay         Patel      9867890543        jay@gmail.com          Mumbai   \n",
      "    Ram         Rajput     9867890999        ram@gmail.com          Delhi    \n",
      "    Shiv         Vyas      6353459898       shiv@gmail.com          Surat    \n",
      "  Ganesha       Patel      9866660543      ganesha@gmail.com        Surat    \n",
      "\n",
      "\n",
      "\t\t Insert Log Table Details \n",
      "-------------------------------------------------------------------------------------------\n",
      " First Name   Last Name    Contact No          Date-Time              Operation Name       \n",
      "-------------------------------------------------------------------------------------------\n",
      "    Jay         Patel      9867890543     2023-08-18 10:51:35             INSERT          \n",
      "   Shree        Rajput     9812390543     2023-08-18 10:51:35             INSERT          \n",
      "    Ram         Rajput     9867890999     2023-08-18 10:51:35             INSERT          \n",
      "    Shiv         Vyas      9998909992     2023-08-18 10:51:35             INSERT          \n",
      "  Ganesha       Patel      9866660543     2023-08-18 10:51:35             INSERT          \n",
      "\n",
      "\n",
      "\t\t Delete Log Table Details \n",
      "-----------------------------------------------------------------------------------------\n",
      " First Name   Last Name    Contact No          Date-Time              Operation Name       \n",
      "-----------------------------------------------------------------------------------------\n",
      "   Shree        Rajput     9812390543     2023-08-18 10:51:35             DELETE          \n",
      "\n",
      "\n",
      "\t\t Update Log Table Details \n",
      "------------------------------------------------------------------------------------------------------\n",
      " First Name   Last Name   Old Contact No      New Contact No        Date-Time        Operation Name       \n",
      "------------------------------------------------------------------------------------------------------\n",
      "    Shiv         Vyas      9998909992         6353459898         2023-08-18 10:51:35          UPDATE          \n"
     ]
    }
   ],
   "source": [
    "def mainfunc():\n",
    "    create_tbl(tblq)\n",
    "    validate_inputdata()\n",
    "    logtbl_for_insert(inslogq,t2q)\n",
    "    logtbl_for_delete(dellogq,t3q)\n",
    "    logtbl_for_update(uplogq,t4q)\n",
    "    insert_record()\n",
    "    update_record()\n",
    "    delete_record()\n",
    "    printrecords_of_maintbl()\n",
    "    records_of_inslog_tbl()\n",
    "    records_of_dellog_tbl()\n",
    "    records_of_uplog_tbl()\n",
    "mainfunc()"
   ]
  },
  {
   "cell_type": "code",
   "execution_count": 18,
   "id": "029e59a5",
   "metadata": {},
   "outputs": [
    {
     "data": {
      "text/plain": [
       "\"def insert_record():\\n    c.execute('''insert into contact_tbl values('Jay','Patel',9867890543,'jay@gmail.com','Mumbai'),\\n                                               ('Shree','Rajput',9812390543,'shree@gmail.com','Delhi'),\\n                                               ('Ram','Rajput',9867890999,'ram@gmail.com','Delhi'),\\n     #only write 3 digits in phone number      ('Shiv','Vyas',999,'shiv@gmail.com','Surat'), \\n                                               ('Ganesha','Patel',9866660543,'ganesha@gmail.com','Surat')''')\""
      ]
     },
     "execution_count": 18,
     "metadata": {},
     "output_type": "execute_result"
    }
   ],
   "source": [
    "\"\"\"def insert_record():\n",
    "    c.execute('''insert into contact_tbl values('Jay','Patel',9867890543,'jay@gmail.com','Mumbai'),\n",
    "                                               ('Shree','Rajput',9812390543,'shree@gmail.com','Delhi'),\n",
    "                                               ('Ram','Rajput',9867890999,'ram@gmail.com','Delhi'),\n",
    "     #only write 3 digits in phone number      ('Shiv','Vyas',999,'shiv@gmail.com','Surat'), \n",
    "                                               ('Ganesha','Patel',9866660543,'ganesha@gmail.com','Surat')''')\"\"\""
   ]
  },
  {
   "cell_type": "code",
   "execution_count": 19,
   "id": "ce7b75f0",
   "metadata": {},
   "outputs": [
    {
     "data": {
      "text/plain": [
       "' \\nso it give below error\\n\\nERROR :- \\n\\n    Traceback (most recent call last):\\n  File \"D:\\\\PythonPractice\\\\w4.py\", line 187, in <module>\\n    mainfunc()\\n  File \"D:\\\\PythonPractice\\\\w4.py\", line 181, in mainfunc\\n    insert_record()\\n  File \"D:\\\\PythonPractice\\\\w4.py\", line 112, in insert_record\\n    c.execute(\\'\\'\\'insert into contact_tbl values(\\'Jay\\',\\'Patel\\',9867890543,\\'jay@gmail.com\\',\\'Mumbai\\'),\\nsqlite3.IntegrityError: Invalid Phone Number,Phone Number Should Be 10 Digits\\n\\n'"
      ]
     },
     "execution_count": 19,
     "metadata": {},
     "output_type": "execute_result"
    }
   ],
   "source": [
    "\"\"\" \n",
    "so it give below error\n",
    "\n",
    "ERROR :- \n",
    "\n",
    "    Traceback (most recent call last):\n",
    "  File \"D:\\PythonPractice\\w4.py\", line 187, in <module>\n",
    "    mainfunc()\n",
    "  File \"D:\\PythonPractice\\w4.py\", line 181, in mainfunc\n",
    "    insert_record()\n",
    "  File \"D:\\PythonPractice\\w4.py\", line 112, in insert_record\n",
    "    c.execute('''insert into contact_tbl values('Jay','Patel',9867890543,'jay@gmail.com','Mumbai'),\n",
    "sqlite3.IntegrityError: Invalid Phone Number,Phone Number Should Be 10 Digits\n",
    "\n",
    "\"\"\""
   ]
  },
  {
   "cell_type": "code",
   "execution_count": null,
   "id": "93c9e3b9",
   "metadata": {},
   "outputs": [],
   "source": []
  }
 ],
 "metadata": {
  "kernelspec": {
   "display_name": "Python 3 (ipykernel)",
   "language": "python",
   "name": "python3"
  },
  "language_info": {
   "codemirror_mode": {
    "name": "ipython",
    "version": 3
   },
   "file_extension": ".py",
   "mimetype": "text/x-python",
   "name": "python",
   "nbconvert_exporter": "python",
   "pygments_lexer": "ipython3",
   "version": "3.11.4"
  }
 },
 "nbformat": 4,
 "nbformat_minor": 5
}
